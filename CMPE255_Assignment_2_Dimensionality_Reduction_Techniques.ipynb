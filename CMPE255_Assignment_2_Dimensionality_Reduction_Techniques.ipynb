{
  "nbformat": 4,
  "nbformat_minor": 0,
  "metadata": {
    "colab": {
      "name": "CMPE255_Assignment_2_Dimensionality_Reduction_Techniques.ipynb",
      "provenance": [],
      "authorship_tag": "ABX9TyORQXrkDiPC8nGPj66SdTRZ",
      "include_colab_link": true
    },
    "kernelspec": {
      "name": "python3",
      "display_name": "Python 3"
    },
    "language_info": {
      "name": "python"
    }
  },
  "cells": [
    {
      "cell_type": "markdown",
      "metadata": {
        "id": "view-in-github",
        "colab_type": "text"
      },
      "source": [
        "<a href=\"https://colab.research.google.com/github/charucheema/CMPE255_Assignment_2_Dimensionality_Reduction_Techniques/blob/main/CMPE255_Assignment_2_Dimensionality_Reduction_Techniques.ipynb\" target=\"_parent\"><img src=\"https://colab.research.google.com/assets/colab-badge.svg\" alt=\"Open In Colab\"/></a>"
      ]
    },
    {
      "cell_type": "markdown",
      "metadata": {
        "id": "HbwRUn_WN8jk"
      },
      "source": [
        "**Dimensionality_Reduction_Techniques**\n"
      ]
    },
    {
      "cell_type": "code",
      "metadata": {
        "id": "haHpILyMN1Zz"
      },
      "source": [
        ""
      ],
      "execution_count": null,
      "outputs": []
    }
  ]
}